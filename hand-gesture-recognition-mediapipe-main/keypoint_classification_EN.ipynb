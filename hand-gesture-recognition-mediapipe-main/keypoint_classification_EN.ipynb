{
  "cells": [
    {
      "cell_type": "code",
      "execution_count": 69,
      "metadata": {
        "id": "igMyGnjE9hEp"
      },
      "outputs": [],
      "source": [
        "import csv\n",
        "\n",
        "import numpy as np\n",
        "import tensorflow as tf\n",
        "from sklearn.model_selection import train_test_split\n",
        "\n",
        "RANDOM_SEED = 42"
      ]
    },
    {
      "cell_type": "markdown",
      "metadata": {
        "id": "t2HDvhIu9hEr"
      },
      "source": [
        "# Specify each path"
      ]
    },
    {
      "cell_type": "code",
      "execution_count": 70,
      "metadata": {
        "id": "9NvZP2Zn9hEy"
      },
      "outputs": [],
      "source": [
        "dataset = 'model/keypoint_classifier/keypoint.csv'\n",
        "model_save_path = 'model/keypoint_classifier/keypoint_classifier.hdf5'\n",
        "tflite_save_path = 'model/keypoint_classifier/keypoint_classifier.tflite'"
      ]
    },
    {
      "cell_type": "markdown",
      "metadata": {
        "id": "s5oMH7x19hEz"
      },
      "source": [
        "# Set number of classes"
      ]
    },
    {
      "cell_type": "code",
      "execution_count": 71,
      "metadata": {
        "id": "du4kodXL9hEz"
      },
      "outputs": [],
      "source": [
        "NUM_CLASSES = 8"
      ]
    },
    {
      "cell_type": "markdown",
      "metadata": {
        "id": "XjnL0uso9hEz"
      },
      "source": [
        "# Dataset reading"
      ]
    },
    {
      "cell_type": "code",
      "execution_count": 72,
      "metadata": {
        "id": "QT5ZqtEz9hE0"
      },
      "outputs": [],
      "source": [
        "X_dataset = np.loadtxt(dataset, delimiter=',', dtype='float32', usecols=list(range(1, (21 * 2) + 1)))"
      ]
    },
    {
      "cell_type": "code",
      "execution_count": 73,
      "metadata": {
        "id": "QmoKFsp49hE0"
      },
      "outputs": [],
      "source": [
        "y_dataset = np.loadtxt(dataset, delimiter=',', dtype='int32', usecols=(0))"
      ]
    },
    {
      "cell_type": "code",
      "execution_count": 74,
      "metadata": {
        "id": "xQU7JTZ_9hE0"
      },
      "outputs": [],
      "source": [
        "X_train, X_test, y_train, y_test = train_test_split(X_dataset, y_dataset, train_size=0.75, random_state=RANDOM_SEED)"
      ]
    },
    {
      "cell_type": "markdown",
      "metadata": {
        "id": "mxK_lETT9hE0"
      },
      "source": [
        "# Model building"
      ]
    },
    {
      "cell_type": "code",
      "execution_count": 75,
      "metadata": {
        "id": "vHBmUf1t9hE1"
      },
      "outputs": [],
      "source": [
        "model = tf.keras.models.Sequential([\n",
        "    tf.keras.layers.Input((21 * 2, )),\n",
        "    tf.keras.layers.Dropout(0.2),\n",
        "    tf.keras.layers.Dense(20, activation='relu'),\n",
        "    tf.keras.layers.Dropout(0.4),\n",
        "    tf.keras.layers.Dense(10, activation='relu'),\n",
        "    tf.keras.layers.Dense(NUM_CLASSES, activation='softmax')\n",
        "])"
      ]
    },
    {
      "cell_type": "code",
      "execution_count": 76,
      "metadata": {
        "colab": {
          "base_uri": "https://localhost:8080/"
        },
        "id": "ypqky9tc9hE1",
        "outputId": "5db082bb-30e3-4110-bf63-a1ee777ecd46"
      },
      "outputs": [
        {
          "name": "stdout",
          "output_type": "stream",
          "text": [
            "Model: \"sequential_3\"\n",
            "_________________________________________________________________\n",
            " Layer (type)                Output Shape              Param #   \n",
            "=================================================================\n",
            " dropout_6 (Dropout)         (None, 42)                0         \n",
            "                                                                 \n",
            " dense_9 (Dense)             (None, 20)                860       \n",
            "                                                                 \n",
            " dropout_7 (Dropout)         (None, 20)                0         \n",
            "                                                                 \n",
            " dense_10 (Dense)            (None, 10)                210       \n",
            "                                                                 \n",
            " dense_11 (Dense)            (None, 8)                 88        \n",
            "                                                                 \n",
            "=================================================================\n",
            "Total params: 1,158\n",
            "Trainable params: 1,158\n",
            "Non-trainable params: 0\n",
            "_________________________________________________________________\n"
          ]
        }
      ],
      "source": [
        "model.summary()  # tf.keras.utils.plot_model(model, show_shapes=True)"
      ]
    },
    {
      "cell_type": "code",
      "execution_count": 77,
      "metadata": {
        "id": "MbMjOflQ9hE1"
      },
      "outputs": [],
      "source": [
        "# Model checkpoint callback\n",
        "cp_callback = tf.keras.callbacks.ModelCheckpoint(\n",
        "    model_save_path, verbose=1, save_weights_only=False)\n",
        "# Callback for early stopping\n",
        "es_callback = tf.keras.callbacks.EarlyStopping(patience=20, verbose=1)"
      ]
    },
    {
      "cell_type": "code",
      "execution_count": 78,
      "metadata": {
        "id": "c3Dac0M_9hE2"
      },
      "outputs": [],
      "source": [
        "# Model compilation\n",
        "model.compile(\n",
        "    optimizer='adam',\n",
        "    loss='sparse_categorical_crossentropy',\n",
        "    metrics=['accuracy']\n",
        ")"
      ]
    },
    {
      "cell_type": "markdown",
      "metadata": {
        "id": "7XI0j1Iu9hE2"
      },
      "source": [
        "# Model training"
      ]
    },
    {
      "cell_type": "code",
      "execution_count": null,
      "metadata": {},
      "outputs": [],
      "source": []
    },
    {
      "cell_type": "code",
      "execution_count": 79,
      "metadata": {
        "colab": {
          "base_uri": "https://localhost:8080/"
        },
        "id": "WirBl-JE9hE3",
        "outputId": "71b30ca2-8294-4d9d-8aa2-800d90d399de",
        "scrolled": true
      },
      "outputs": [
        {
          "name": "stdout",
          "output_type": "stream",
          "text": [
            "Epoch 1/1000\n",
            "189/192 [============================>.] - ETA: 0s - loss: 1.4429 - accuracy: 0.5150\n",
            "Epoch 1: saving model to model/keypoint_classifier/keypoint_classifier.hdf5\n",
            "192/192 [==============================] - 2s 8ms/step - loss: 1.4365 - accuracy: 0.5165 - val_loss: 0.7841 - val_accuracy: 0.8151\n",
            "Epoch 2/1000\n",
            "188/192 [============================>.] - ETA: 0s - loss: 0.8365 - accuracy: 0.7014\n",
            "Epoch 2: saving model to model/keypoint_classifier/keypoint_classifier.hdf5\n",
            "192/192 [==============================] - 2s 9ms/step - loss: 0.8339 - accuracy: 0.7023 - val_loss: 0.5205 - val_accuracy: 0.9146\n",
            "Epoch 3/1000\n",
            "192/192 [==============================] - ETA: 0s - loss: 0.6735 - accuracy: 0.7730\n",
            "Epoch 3: saving model to model/keypoint_classifier/keypoint_classifier.hdf5\n",
            "192/192 [==============================] - 1s 5ms/step - loss: 0.6735 - accuracy: 0.7730 - val_loss: 0.3734 - val_accuracy: 0.9404\n",
            "Epoch 4/1000\n",
            "181/192 [===========================>..] - ETA: 0s - loss: 0.5873 - accuracy: 0.8054\n",
            "Epoch 4: saving model to model/keypoint_classifier/keypoint_classifier.hdf5\n",
            "192/192 [==============================] - 1s 5ms/step - loss: 0.5859 - accuracy: 0.8053 - val_loss: 0.2984 - val_accuracy: 0.9439\n",
            "Epoch 5/1000\n",
            "182/192 [===========================>..] - ETA: 0s - loss: 0.5424 - accuracy: 0.8213\n",
            "Epoch 5: saving model to model/keypoint_classifier/keypoint_classifier.hdf5\n",
            "192/192 [==============================] - 1s 5ms/step - loss: 0.5402 - accuracy: 0.8213 - val_loss: 0.2717 - val_accuracy: 0.9466\n",
            "Epoch 6/1000\n",
            "178/192 [==========================>...] - ETA: 0s - loss: 0.5160 - accuracy: 0.8324\n",
            "Epoch 6: saving model to model/keypoint_classifier/keypoint_classifier.hdf5\n",
            "192/192 [==============================] - 1s 5ms/step - loss: 0.5159 - accuracy: 0.8321 - val_loss: 0.2488 - val_accuracy: 0.9510\n",
            "Epoch 7/1000\n",
            "192/192 [==============================] - ETA: 0s - loss: 0.5035 - accuracy: 0.8356\n",
            "Epoch 7: saving model to model/keypoint_classifier/keypoint_classifier.hdf5\n",
            "192/192 [==============================] - 1s 5ms/step - loss: 0.5035 - accuracy: 0.8356 - val_loss: 0.2345 - val_accuracy: 0.9513\n",
            "Epoch 8/1000\n",
            "184/192 [===========================>..] - ETA: 0s - loss: 0.4775 - accuracy: 0.8453\n",
            "Epoch 8: saving model to model/keypoint_classifier/keypoint_classifier.hdf5\n",
            "192/192 [==============================] - 1s 4ms/step - loss: 0.4779 - accuracy: 0.8449 - val_loss: 0.2254 - val_accuracy: 0.9544\n",
            "Epoch 9/1000\n",
            "190/192 [============================>.] - ETA: 0s - loss: 0.4744 - accuracy: 0.8443\n",
            "Epoch 9: saving model to model/keypoint_classifier/keypoint_classifier.hdf5\n",
            "192/192 [==============================] - 1s 5ms/step - loss: 0.4747 - accuracy: 0.8445 - val_loss: 0.2151 - val_accuracy: 0.9561\n",
            "Epoch 10/1000\n",
            "178/192 [==========================>...] - ETA: 0s - loss: 0.4729 - accuracy: 0.8472\n",
            "Epoch 10: saving model to model/keypoint_classifier/keypoint_classifier.hdf5\n",
            "192/192 [==============================] - 1s 5ms/step - loss: 0.4719 - accuracy: 0.8477 - val_loss: 0.2133 - val_accuracy: 0.9569\n",
            "Epoch 11/1000\n",
            "184/192 [===========================>..] - ETA: 0s - loss: 0.4605 - accuracy: 0.8508\n",
            "Epoch 11: saving model to model/keypoint_classifier/keypoint_classifier.hdf5\n",
            "192/192 [==============================] - 1s 5ms/step - loss: 0.4616 - accuracy: 0.8504 - val_loss: 0.2107 - val_accuracy: 0.9566\n",
            "Epoch 12/1000\n",
            "187/192 [============================>.] - ETA: 0s - loss: 0.4500 - accuracy: 0.8541\n",
            "Epoch 12: saving model to model/keypoint_classifier/keypoint_classifier.hdf5\n",
            "192/192 [==============================] - 1s 5ms/step - loss: 0.4483 - accuracy: 0.8549 - val_loss: 0.2067 - val_accuracy: 0.9560\n",
            "Epoch 13/1000\n",
            "180/192 [===========================>..] - ETA: 0s - loss: 0.4479 - accuracy: 0.8557\n",
            "Epoch 13: saving model to model/keypoint_classifier/keypoint_classifier.hdf5\n",
            "192/192 [==============================] - 1s 6ms/step - loss: 0.4492 - accuracy: 0.8553 - val_loss: 0.2034 - val_accuracy: 0.9562\n",
            "Epoch 14/1000\n",
            "186/192 [============================>.] - ETA: 0s - loss: 0.4460 - accuracy: 0.8539\n",
            "Epoch 14: saving model to model/keypoint_classifier/keypoint_classifier.hdf5\n",
            "192/192 [==============================] - 1s 5ms/step - loss: 0.4458 - accuracy: 0.8542 - val_loss: 0.2040 - val_accuracy: 0.9571\n",
            "Epoch 15/1000\n",
            "185/192 [===========================>..] - ETA: 0s - loss: 0.4301 - accuracy: 0.8584\n",
            "Epoch 15: saving model to model/keypoint_classifier/keypoint_classifier.hdf5\n",
            "192/192 [==============================] - 1s 4ms/step - loss: 0.4296 - accuracy: 0.8588 - val_loss: 0.2022 - val_accuracy: 0.9578\n",
            "Epoch 16/1000\n",
            "186/192 [============================>.] - ETA: 0s - loss: 0.4414 - accuracy: 0.8592\n",
            "Epoch 16: saving model to model/keypoint_classifier/keypoint_classifier.hdf5\n",
            "192/192 [==============================] - 1s 5ms/step - loss: 0.4406 - accuracy: 0.8596 - val_loss: 0.2045 - val_accuracy: 0.9573\n",
            "Epoch 17/1000\n",
            "179/192 [==========================>...] - ETA: 0s - loss: 0.4349 - accuracy: 0.8610\n",
            "Epoch 17: saving model to model/keypoint_classifier/keypoint_classifier.hdf5\n",
            "192/192 [==============================] - 1s 5ms/step - loss: 0.4342 - accuracy: 0.8609 - val_loss: 0.1974 - val_accuracy: 0.9578\n",
            "Epoch 18/1000\n",
            "179/192 [==========================>...] - ETA: 0s - loss: 0.4274 - accuracy: 0.8599\n",
            "Epoch 18: saving model to model/keypoint_classifier/keypoint_classifier.hdf5\n",
            "192/192 [==============================] - 1s 5ms/step - loss: 0.4275 - accuracy: 0.8605 - val_loss: 0.1947 - val_accuracy: 0.9577\n",
            "Epoch 19/1000\n",
            "179/192 [==========================>...] - ETA: 0s - loss: 0.4242 - accuracy: 0.8654\n",
            "Epoch 19: saving model to model/keypoint_classifier/keypoint_classifier.hdf5\n",
            "192/192 [==============================] - 1s 5ms/step - loss: 0.4258 - accuracy: 0.8653 - val_loss: 0.2008 - val_accuracy: 0.9561\n",
            "Epoch 20/1000\n",
            "179/192 [==========================>...] - ETA: 0s - loss: 0.4286 - accuracy: 0.8631\n",
            "Epoch 20: saving model to model/keypoint_classifier/keypoint_classifier.hdf5\n",
            "192/192 [==============================] - 1s 5ms/step - loss: 0.4302 - accuracy: 0.8634 - val_loss: 0.2005 - val_accuracy: 0.9562\n",
            "Epoch 21/1000\n",
            "189/192 [============================>.] - ETA: 0s - loss: 0.4197 - accuracy: 0.8681\n",
            "Epoch 21: saving model to model/keypoint_classifier/keypoint_classifier.hdf5\n",
            "192/192 [==============================] - 1s 5ms/step - loss: 0.4192 - accuracy: 0.8682 - val_loss: 0.2036 - val_accuracy: 0.9558\n",
            "Epoch 22/1000\n",
            "190/192 [============================>.] - ETA: 0s - loss: 0.4214 - accuracy: 0.8664\n",
            "Epoch 22: saving model to model/keypoint_classifier/keypoint_classifier.hdf5\n",
            "192/192 [==============================] - 1s 5ms/step - loss: 0.4217 - accuracy: 0.8662 - val_loss: 0.2026 - val_accuracy: 0.9549\n",
            "Epoch 23/1000\n",
            "185/192 [===========================>..] - ETA: 0s - loss: 0.4194 - accuracy: 0.8651\n",
            "Epoch 23: saving model to model/keypoint_classifier/keypoint_classifier.hdf5\n",
            "192/192 [==============================] - 1s 5ms/step - loss: 0.4192 - accuracy: 0.8651 - val_loss: 0.2017 - val_accuracy: 0.9557\n",
            "Epoch 24/1000\n",
            "189/192 [============================>.] - ETA: 0s - loss: 0.4115 - accuracy: 0.8681\n",
            "Epoch 24: saving model to model/keypoint_classifier/keypoint_classifier.hdf5\n",
            "192/192 [==============================] - 1s 5ms/step - loss: 0.4110 - accuracy: 0.8680 - val_loss: 0.2000 - val_accuracy: 0.9567\n",
            "Epoch 25/1000\n",
            "186/192 [============================>.] - ETA: 0s - loss: 0.4163 - accuracy: 0.8679\n",
            "Epoch 25: saving model to model/keypoint_classifier/keypoint_classifier.hdf5\n",
            "192/192 [==============================] - 1s 5ms/step - loss: 0.4169 - accuracy: 0.8679 - val_loss: 0.2001 - val_accuracy: 0.9587\n",
            "Epoch 26/1000\n",
            "187/192 [============================>.] - ETA: 0s - loss: 0.4087 - accuracy: 0.8695\n",
            "Epoch 26: saving model to model/keypoint_classifier/keypoint_classifier.hdf5\n",
            "192/192 [==============================] - 1s 5ms/step - loss: 0.4091 - accuracy: 0.8696 - val_loss: 0.1952 - val_accuracy: 0.9571\n",
            "Epoch 27/1000\n",
            "184/192 [===========================>..] - ETA: 0s - loss: 0.4120 - accuracy: 0.8687\n",
            "Epoch 27: saving model to model/keypoint_classifier/keypoint_classifier.hdf5\n",
            "192/192 [==============================] - 1s 4ms/step - loss: 0.4110 - accuracy: 0.8688 - val_loss: 0.2002 - val_accuracy: 0.9540\n",
            "Epoch 28/1000\n",
            "182/192 [===========================>..] - ETA: 0s - loss: 0.4016 - accuracy: 0.8745\n",
            "Epoch 28: saving model to model/keypoint_classifier/keypoint_classifier.hdf5\n",
            "192/192 [==============================] - 1s 5ms/step - loss: 0.4020 - accuracy: 0.8744 - val_loss: 0.1911 - val_accuracy: 0.9591\n",
            "Epoch 29/1000\n",
            "182/192 [===========================>..] - ETA: 0s - loss: 0.4050 - accuracy: 0.8750\n",
            "Epoch 29: saving model to model/keypoint_classifier/keypoint_classifier.hdf5\n",
            "192/192 [==============================] - 1s 5ms/step - loss: 0.4061 - accuracy: 0.8738 - val_loss: 0.1961 - val_accuracy: 0.9576\n",
            "Epoch 30/1000\n",
            "185/192 [===========================>..] - ETA: 0s - loss: 0.4017 - accuracy: 0.8742\n",
            "Epoch 30: saving model to model/keypoint_classifier/keypoint_classifier.hdf5\n",
            "192/192 [==============================] - 1s 5ms/step - loss: 0.4019 - accuracy: 0.8741 - val_loss: 0.1971 - val_accuracy: 0.9571\n",
            "Epoch 31/1000\n",
            "186/192 [============================>.] - ETA: 0s - loss: 0.3978 - accuracy: 0.8756\n",
            "Epoch 31: saving model to model/keypoint_classifier/keypoint_classifier.hdf5\n",
            "192/192 [==============================] - 1s 5ms/step - loss: 0.3970 - accuracy: 0.8758 - val_loss: 0.1970 - val_accuracy: 0.9585\n",
            "Epoch 32/1000\n",
            "179/192 [==========================>...] - ETA: 0s - loss: 0.3996 - accuracy: 0.8732\n",
            "Epoch 32: saving model to model/keypoint_classifier/keypoint_classifier.hdf5\n",
            "192/192 [==============================] - 1s 5ms/step - loss: 0.4022 - accuracy: 0.8732 - val_loss: 0.1952 - val_accuracy: 0.9582\n",
            "Epoch 33/1000\n",
            "187/192 [============================>.] - ETA: 0s - loss: 0.3994 - accuracy: 0.8750\n",
            "Epoch 33: saving model to model/keypoint_classifier/keypoint_classifier.hdf5\n",
            "192/192 [==============================] - 1s 4ms/step - loss: 0.3996 - accuracy: 0.8748 - val_loss: 0.1984 - val_accuracy: 0.9588\n",
            "Epoch 34/1000\n",
            "189/192 [============================>.] - ETA: 0s - loss: 0.3964 - accuracy: 0.8747\n",
            "Epoch 34: saving model to model/keypoint_classifier/keypoint_classifier.hdf5\n",
            "192/192 [==============================] - 1s 5ms/step - loss: 0.3964 - accuracy: 0.8746 - val_loss: 0.1942 - val_accuracy: 0.9577\n",
            "Epoch 35/1000\n",
            "176/192 [==========================>...] - ETA: 0s - loss: 0.3878 - accuracy: 0.8779\n",
            "Epoch 35: saving model to model/keypoint_classifier/keypoint_classifier.hdf5\n",
            "192/192 [==============================] - 1s 5ms/step - loss: 0.3896 - accuracy: 0.8780 - val_loss: 0.1935 - val_accuracy: 0.9587\n",
            "Epoch 36/1000\n",
            "192/192 [==============================] - ETA: 0s - loss: 0.3941 - accuracy: 0.8740\n",
            "Epoch 36: saving model to model/keypoint_classifier/keypoint_classifier.hdf5\n",
            "192/192 [==============================] - 1s 5ms/step - loss: 0.3941 - accuracy: 0.8740 - val_loss: 0.1978 - val_accuracy: 0.9562\n",
            "Epoch 37/1000\n",
            "185/192 [===========================>..] - ETA: 0s - loss: 0.3946 - accuracy: 0.8758\n",
            "Epoch 37: saving model to model/keypoint_classifier/keypoint_classifier.hdf5\n",
            "192/192 [==============================] - 1s 5ms/step - loss: 0.3945 - accuracy: 0.8763 - val_loss: 0.1987 - val_accuracy: 0.9556\n",
            "Epoch 38/1000\n",
            "178/192 [==========================>...] - ETA: 0s - loss: 0.3887 - accuracy: 0.8780\n",
            "Epoch 38: saving model to model/keypoint_classifier/keypoint_classifier.hdf5\n",
            "192/192 [==============================] - 1s 4ms/step - loss: 0.3885 - accuracy: 0.8780 - val_loss: 0.2018 - val_accuracy: 0.9551\n",
            "Epoch 39/1000\n",
            "183/192 [===========================>..] - ETA: 0s - loss: 0.3846 - accuracy: 0.8769\n",
            "Epoch 39: saving model to model/keypoint_classifier/keypoint_classifier.hdf5\n",
            "192/192 [==============================] - 1s 5ms/step - loss: 0.3859 - accuracy: 0.8769 - val_loss: 0.2013 - val_accuracy: 0.9555\n",
            "Epoch 40/1000\n",
            "182/192 [===========================>..] - ETA: 0s - loss: 0.3831 - accuracy: 0.8790\n",
            "Epoch 40: saving model to model/keypoint_classifier/keypoint_classifier.hdf5\n",
            "192/192 [==============================] - 1s 5ms/step - loss: 0.3818 - accuracy: 0.8794 - val_loss: 0.1965 - val_accuracy: 0.9574\n",
            "Epoch 41/1000\n",
            "183/192 [===========================>..] - ETA: 0s - loss: 0.3816 - accuracy: 0.8800\n",
            "Epoch 41: saving model to model/keypoint_classifier/keypoint_classifier.hdf5\n",
            "192/192 [==============================] - 1s 5ms/step - loss: 0.3811 - accuracy: 0.8794 - val_loss: 0.1980 - val_accuracy: 0.9549\n",
            "Epoch 42/1000\n",
            "188/192 [============================>.] - ETA: 0s - loss: 0.3880 - accuracy: 0.8793\n",
            "Epoch 42: saving model to model/keypoint_classifier/keypoint_classifier.hdf5\n",
            "192/192 [==============================] - 1s 5ms/step - loss: 0.3885 - accuracy: 0.8789 - val_loss: 0.2084 - val_accuracy: 0.9490\n",
            "Epoch 43/1000\n",
            "185/192 [===========================>..] - ETA: 0s - loss: 0.3848 - accuracy: 0.8800\n",
            "Epoch 43: saving model to model/keypoint_classifier/keypoint_classifier.hdf5\n",
            "192/192 [==============================] - 1s 4ms/step - loss: 0.3848 - accuracy: 0.8798 - val_loss: 0.2075 - val_accuracy: 0.9551\n",
            "Epoch 44/1000\n",
            "184/192 [===========================>..] - ETA: 0s - loss: 0.3860 - accuracy: 0.8815\n",
            "Epoch 44: saving model to model/keypoint_classifier/keypoint_classifier.hdf5\n",
            "192/192 [==============================] - 1s 5ms/step - loss: 0.3843 - accuracy: 0.8815 - val_loss: 0.2048 - val_accuracy: 0.9551\n",
            "Epoch 45/1000\n",
            "190/192 [============================>.] - ETA: 0s - loss: 0.3751 - accuracy: 0.8822\n",
            "Epoch 45: saving model to model/keypoint_classifier/keypoint_classifier.hdf5\n",
            "192/192 [==============================] - 1s 5ms/step - loss: 0.3753 - accuracy: 0.8820 - val_loss: 0.1949 - val_accuracy: 0.9580\n",
            "Epoch 46/1000\n",
            "188/192 [============================>.] - ETA: 0s - loss: 0.3795 - accuracy: 0.8791\n",
            "Epoch 46: saving model to model/keypoint_classifier/keypoint_classifier.hdf5\n",
            "192/192 [==============================] - 1s 5ms/step - loss: 0.3799 - accuracy: 0.8788 - val_loss: 0.2035 - val_accuracy: 0.9508\n",
            "Epoch 47/1000\n",
            "185/192 [===========================>..] - ETA: 0s - loss: 0.3731 - accuracy: 0.8844\n",
            "Epoch 47: saving model to model/keypoint_classifier/keypoint_classifier.hdf5\n",
            "192/192 [==============================] - 1s 6ms/step - loss: 0.3738 - accuracy: 0.8837 - val_loss: 0.1965 - val_accuracy: 0.9568\n",
            "Epoch 48/1000\n",
            "190/192 [============================>.] - ETA: 0s - loss: 0.3747 - accuracy: 0.8826\n",
            "Epoch 48: saving model to model/keypoint_classifier/keypoint_classifier.hdf5\n",
            "192/192 [==============================] - 1s 5ms/step - loss: 0.3739 - accuracy: 0.8827 - val_loss: 0.2008 - val_accuracy: 0.9536\n",
            "Epoch 48: early stopping\n"
          ]
        },
        {
          "data": {
            "text/plain": [
              "<keras.callbacks.History at 0x7f0e64409820>"
            ]
          },
          "execution_count": 79,
          "metadata": {},
          "output_type": "execute_result"
        }
      ],
      "source": [
        "model.fit(\n",
        "    X_train,\n",
        "    y_train,\n",
        "    epochs=1000,\n",
        "    batch_size=128,\n",
        "    validation_data=(X_test, y_test),\n",
        "    callbacks=[cp_callback, es_callback]\n",
        ")"
      ]
    },
    {
      "cell_type": "code",
      "execution_count": 80,
      "metadata": {
        "colab": {
          "base_uri": "https://localhost:8080/"
        },
        "id": "pxvb2Y299hE3",
        "outputId": "59eb3185-2e37-4b9e-bc9d-ab1b8ac29b7f"
      },
      "outputs": [
        {
          "name": "stdout",
          "output_type": "stream",
          "text": [
            "64/64 [==============================] - 0s 3ms/step - loss: 0.2008 - accuracy: 0.9536\n"
          ]
        }
      ],
      "source": [
        "# Model evaluation\n",
        "val_loss, val_acc = model.evaluate(X_test, y_test, batch_size=128)"
      ]
    },
    {
      "cell_type": "code",
      "execution_count": 81,
      "metadata": {
        "id": "RBkmDeUW9hE4"
      },
      "outputs": [],
      "source": [
        "# Loading the saved model\n",
        "model = tf.keras.models.load_model(model_save_path)"
      ]
    },
    {
      "cell_type": "code",
      "execution_count": 82,
      "metadata": {
        "colab": {
          "base_uri": "https://localhost:8080/"
        },
        "id": "tFz9Tb0I9hE4",
        "outputId": "1c3b3528-54ae-4ee2-ab04-77429211cbef"
      },
      "outputs": [
        {
          "name": "stdout",
          "output_type": "stream",
          "text": [
            "1/1 [==============================] - 0s 110ms/step\n",
            "[5.8087921e-09 1.0194082e-03 1.5800705e-04 5.2439667e-02 7.9309754e-03\n",
            " 4.8234879e-06 9.3844658e-01 4.7542278e-07]\n",
            "6\n"
          ]
        }
      ],
      "source": [
        "# Inference test\n",
        "predict_result = model.predict(np.array([X_test[0]]))\n",
        "print(np.squeeze(predict_result))\n",
        "print(np.argmax(np.squeeze(predict_result)))"
      ]
    },
    {
      "cell_type": "markdown",
      "metadata": {
        "id": "S3U4yNWx9hE4"
      },
      "source": [
        "# Confusion matrix"
      ]
    },
    {
      "cell_type": "code",
      "execution_count": 83,
      "metadata": {
        "colab": {
          "base_uri": "https://localhost:8080/",
          "height": 582
        },
        "id": "AP1V6SCk9hE5",
        "outputId": "08e41a80-7a4a-4619-8125-ecc371368d19"
      },
      "outputs": [
        {
          "name": "stdout",
          "output_type": "stream",
          "text": [
            "256/256 [==============================] - 1s 2ms/step\n"
          ]
        },
        {
          "data": {
            "image/png": "[encoded data removed]",
            "text/plain": [
              "<Figure size 700x600 with 2 Axes>"
            ]
          },
          "metadata": {},
          "output_type": "display_data"
        },
        {
          "name": "stdout",
          "output_type": "stream",
          "text": [
            "Classification Report\n",
            "              precision    recall  f1-score   support\n",
            "\n",
            "           1       0.92      0.97      0.94      1325\n",
            "           2       0.00      0.00      0.00       106\n",
            "           3       0.97      0.92      0.94      1354\n",
            "           4       0.95      0.98      0.96      1291\n",
            "           5       0.98      0.99      0.99      1229\n",
            "           6       0.94      0.98      0.96      1499\n",
            "           7       0.97      0.96      0.97      1372\n",
            "\n",
            "    accuracy                           0.95      8176\n",
            "   macro avg       0.82      0.83      0.82      8176\n",
            "weighted avg       0.94      0.95      0.95      8176\n",
            "\n"
          ]
        },
        {
          "name": "stderr",
          "output_type": "stream",
          "text": [
            "/home/jjc257/.local/lib/python3.8/site-packages/sklearn/metrics/_classification.py:1334: UndefinedMetricWarning: Precision and F-score are ill-defined and being set to 0.0 in labels with no predicted samples. Use `zero_division` parameter to control this behavior.\n",
            "  _warn_prf(average, modifier, msg_start, len(result))\n",
            "/home/jjc257/.local/lib/python3.8/site-packages/sklearn/metrics/_classification.py:1334: UndefinedMetricWarning: Precision and F-score are ill-defined and being set to 0.0 in labels with no predicted samples. Use `zero_division` parameter to control this behavior.\n",
            "  _warn_prf(average, modifier, msg_start, len(result))\n",
            "/home/jjc257/.local/lib/python3.8/site-packages/sklearn/metrics/_classification.py:1334: UndefinedMetricWarning: Precision and F-score are ill-defined and being set to 0.0 in labels with no predicted samples. Use `zero_division` parameter to control this behavior.\n",
            "  _warn_prf(average, modifier, msg_start, len(result))\n"
          ]
        }
      ],
      "source": [
        "import pandas as pd\n",
        "import seaborn as sns\n",
        "import matplotlib.pyplot as plt\n",
        "from sklearn.metrics import confusion_matrix, classification_report\n",
        "\n",
        "def print_confusion_matrix(y_true, y_pred, report=True):\n",
        "    labels = sorted(list(set(y_true)))\n",
        "    cmx_data = confusion_matrix(y_true, y_pred, labels=labels)\n",
        "    \n",
        "    df_cmx = pd.DataFrame(cmx_data, index=labels, columns=labels)\n",
        " \n",
        "    fig, ax = plt.subplots(figsize=(7, 6))\n",
        "    sns.heatmap(df_cmx, annot=True, fmt='g' ,square=False)\n",
        "    ax.set_ylim(len(set(y_true)), 0)\n",
        "    plt.show()\n",
        "    \n",
        "    if report:\n",
        "        print('Classification Report')\n",
        "        print(classification_report(y_test, y_pred))\n",
        "\n",
        "Y_pred = model.predict(X_test)\n",
        "y_pred = np.argmax(Y_pred, axis=1)\n",
        "\n",
        "print_confusion_matrix(y_test, y_pred)"
      ]
    },
    {
      "cell_type": "markdown",
      "metadata": {
        "id": "FNP6aqzc9hE5"
      },
      "source": [
        "# Convert to model for Tensorflow-Lite"
      ]
    },
    {
      "cell_type": "code",
      "execution_count": 84,
      "metadata": {
        "id": "ODjnYyld9hE6"
      },
      "outputs": [],
      "source": [
        "# Save as a model dedicated to inference\n",
        "model.save(model_save_path, include_optimizer=False)"
      ]
    },
    {
      "cell_type": "code",
      "execution_count": 85,
      "metadata": {
        "colab": {
          "base_uri": "https://localhost:8080/"
        },
        "id": "zRfuK8Y59hE6",
        "outputId": "a4ca585c-b5d5-4244-8291-8674063209bb"
      },
      "outputs": [
        {
          "name": "stdout",
          "output_type": "stream",
          "text": [
            "INFO:tensorflow:Assets written to: /tmp/tmpk9_yjc8x/assets\n"
          ]
        },
        {
          "name": "stderr",
          "output_type": "stream",
          "text": [
            "INFO:tensorflow:Assets written to: /tmp/tmpk9_yjc8x/assets\n",
            "2022-12-12 17:31:19.978109: W tensorflow/compiler/mlir/lite/python/tf_tfl_flatbuffer_helpers.cc:362] Ignored output_format.\n",
            "2022-12-12 17:31:19.978133: W tensorflow/compiler/mlir/lite/python/tf_tfl_flatbuffer_helpers.cc:365] Ignored drop_control_dependency.\n",
            "2022-12-12 17:31:19.978259: I tensorflow/cc/saved_model/reader.cc:45] Reading SavedModel from: /tmp/tmpk9_yjc8x\n",
            "2022-12-12 17:31:19.979810: I tensorflow/cc/saved_model/reader.cc:89] Reading meta graph with tags { serve }\n",
            "2022-12-12 17:31:19.979842: I tensorflow/cc/saved_model/reader.cc:130] Reading SavedModel debug info (if present) from: /tmp/tmpk9_yjc8x\n",
            "2022-12-12 17:31:19.986724: I tensorflow/cc/saved_model/loader.cc:229] Restoring SavedModel bundle.\n",
            "2022-12-12 17:31:20.050782: I tensorflow/cc/saved_model/loader.cc:213] Running initialization op on SavedModel bundle at path: /tmp/tmpk9_yjc8x\n",
            "2022-12-12 17:31:20.068330: I tensorflow/cc/saved_model/loader.cc:305] SavedModel load for tags { serve }; Status: success: OK. Took 90068 microseconds.\n"
          ]
        },
        {
          "data": {
            "text/plain": [
              "6772"
            ]
          },
          "execution_count": 85,
          "metadata": {},
          "output_type": "execute_result"
        }
      ],
      "source": [
        "# Transform model (quantization)\n",
        "\n",
        "converter = tf.lite.TFLiteConverter.from_keras_model(model)\n",
        "converter.optimizations = [tf.lite.Optimize.DEFAULT]\n",
        "tflite_quantized_model = converter.convert()\n",
        "\n",
        "open(tflite_save_path, 'wb').write(tflite_quantized_model)"
      ]
    },
    {
      "cell_type": "markdown",
      "metadata": {
        "id": "CHBPBXdx9hE6"
      },
      "source": [
        "# Inference test"
      ]
    },
    {
      "cell_type": "code",
      "execution_count": 86,
      "metadata": {
        "id": "mGAzLocO9hE7"
      },
      "outputs": [],
      "source": [
        "interpreter = tf.lite.Interpreter(model_path=tflite_save_path)\n",
        "interpreter.allocate_tensors()"
      ]
    },
    {
      "cell_type": "code",
      "execution_count": 87,
      "metadata": {
        "id": "oQuDK8YS9hE7"
      },
      "outputs": [],
      "source": [
        "# Get I / O tensor\n",
        "input_details = interpreter.get_input_details()\n",
        "output_details = interpreter.get_output_details()"
      ]
    },
    {
      "cell_type": "code",
      "execution_count": 88,
      "metadata": {
        "id": "2_ixAf_l9hE7"
      },
      "outputs": [],
      "source": [
        "interpreter.set_tensor(input_details[0]['index'], np.array([X_test[0]]))"
      ]
    },
    {
      "cell_type": "code",
      "execution_count": 89,
      "metadata": {
        "colab": {
          "base_uri": "https://localhost:8080/"
        },
        "id": "s4FoAnuc9hE7",
        "outputId": "91f18257-8d8b-4ef3-c558-e9b5f94fabbf",
        "scrolled": true
      },
      "outputs": [
        {
          "name": "stdout",
          "output_type": "stream",
          "text": [
            "CPU times: user 315 µs, sys: 22 µs, total: 337 µs\n",
            "Wall time: 288 µs\n"
          ]
        }
      ],
      "source": [
        "%%time\n",
        "# Inference implementation\n",
        "interpreter.invoke()\n",
        "tflite_results = interpreter.get_tensor(output_details[0]['index'])"
      ]
    },
    {
      "cell_type": "code",
      "execution_count": 90,
      "metadata": {
        "colab": {
          "base_uri": "https://localhost:8080/"
        },
        "id": "vONjp19J9hE8",
        "outputId": "77205e24-fd00-42c4-f7b6-e06e527c2cba"
      },
      "outputs": [
        {
          "name": "stdout",
          "output_type": "stream",
          "text": [
            "[5.8087921e-09 1.0194083e-03 1.5800723e-04 5.2439652e-02 7.9309763e-03\n",
            " 4.8234888e-06 9.3844670e-01 4.7542326e-07]\n",
            "6\n"
          ]
        }
      ],
      "source": [
        "print(np.squeeze(tflite_results))\n",
        "print(np.argmax(np.squeeze(tflite_results)))"
      ]
    }
  ],
  "metadata": {
    "accelerator": "GPU",
    "colab": {
      "collapsed_sections": [],
      "name": "keypoint_classification_EN.ipynb",
      "provenance": [],
      "toc_visible": true
    },
    "kernelspec": {
      "display_name": "Python 3.8.10 64-bit",
      "language": "python",
      "name": "python3"
    },
    "language_info": {
      "codemirror_mode": {
        "name": "ipython",
        "version": 3
      },
      "file_extension": ".py",
      "mimetype": "text/x-python",
      "name": "python",
      "nbconvert_exporter": "python",
      "pygments_lexer": "ipython3",
      "version": "3.8.10"
    },
    "vscode": {
      "interpreter": {
        "hash": "e7370f93d1d0cde622a1f8e1c04877d8463912d04d973331ad4851f04de6915a"
      }
    }
  },
  "nbformat": 4,
  "nbformat_minor": 0
}
